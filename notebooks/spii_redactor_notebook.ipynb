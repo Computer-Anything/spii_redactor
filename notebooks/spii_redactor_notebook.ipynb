{
 "cells": [
  {
   "cell_type": "markdown",
   "id": "91a84fb2",
   "metadata": {},
   "source": [
    "1. Import Libraries"
   ]
  },
  {
   "cell_type": "code",
   "execution_count": null,
   "id": "88cde6db",
   "metadata": {},
   "outputs": [],
   "source": [
    "# Import Libraries\n",
    "import PyPDF2\n",
    "import pytesseract\n",
    "from PIL import Image\n",
    "from transformers import AutoTokenizer, AutoModelForTokenClassification, pipeline\n",
    "import json"
   ]
  },
  {
   "cell_type": "markdown",
   "id": "eab0647a",
   "metadata": {},
   "source": [
    "2. Load the Fine-Tuned Model:"
   ]
  },
  {
   "cell_type": "code",
   "execution_count": null,
   "id": "11b38158",
   "metadata": {},
   "outputs": [],
   "source": [
    "# Step 2: Load the Fine-Tuned Model\n",
    "tokenizer = AutoTokenizer.from_pretrained(\"ner_model\")\n",
    "model = AutoModelForTokenClassification.from_pretrained(\"ner_model\")\n",
    "ner_pipeline = pipeline(\"ner\", model=model, tokenizer=tokenizer)"
   ]
  },
  {
   "cell_type": "markdown",
   "id": "bcf8b06d",
   "metadata": {},
   "source": [
    "3. Extract text:"
   ]
  },
  {
   "cell_type": "code",
   "execution_count": null,
   "id": "4166cdc0",
   "metadata": {},
   "outputs": [],
   "source": [
    "# Function to extract text from a PDF\n",
    "def extract_text_from_pdf(pdf_path):\n",
    "    text = \"\"\n",
    "    with open(pdf_path, \"rb\") as f:\n",
    "        reader = PyPDF2.PdfReader(f)\n",
    "        for page in reader.pages:\n",
    "            text += page.extract_text()\n",
    "    return text\n",
    "\n",
    "# Function to extract text from an image (OCR)\n",
    "def extract_text_from_image(image_path):\n",
    "    image = Image.open(image_path)\n",
    "    return pytesseract.image_to_string(image)"
   ]
  },
  {
   "cell_type": "markdown",
   "id": "53231e29",
   "metadata": {},
   "source": [
    "4. Process the text with NER Model:"
   ]
  },
  {
   "cell_type": "code",
   "execution_count": null,
   "id": "d0a5ea4b",
   "metadata": {},
   "outputs": [],
   "source": [
    "# Function to process text with the NER model\n",
    "def process_text_with_ner(text):\n",
    "    entities = ner_pipeline(text)\n",
    "    cleaned_entities = post_process_predictions(entities)\n",
    "    return cleaned_entities\n",
    "\n",
    "# Post-process predictions (from your existing code)\n",
    "def post_process_predictions(entities):\n",
    "    # Remove subword tokens and return entities as-is\n",
    "    for entity in entities:\n",
    "        entity[\"word\"] = entity[\"word\"].replace(\"##\", \"\")\n",
    "    return entities\n"
   ]
  },
  {
   "cell_type": "markdown",
   "id": "3e34f469",
   "metadata": {},
   "source": [
    "4. Main Workflow:"
   ]
  },
  {
   "cell_type": "code",
   "execution_count": null,
   "id": "a1104e05",
   "metadata": {},
   "outputs": [],
   "source": [
    "pdf_path = \"Resume_DM.pdf\"  # Replace with your PDF file path\n",
    "text = extract_text_from_pdf(pdf_path)\n",
    "\n",
    "# Clean the extracted text\n",
    "def clean_text(text):\n",
    "    text = text.replace(\"\\n\", \" \").strip()\n",
    "    text = \" \".join(text.split())\n",
    "    return text\n",
    "\n",
    "text = clean_text(text)\n",
    "\n",
    "# Process the extracted text with the NER model\n",
    "entities = process_text_with_ner(text)\n",
    "\n",
    "# Lower the confidence threshold\n",
    "def filter_entities(entities, threshold=0.5):\n",
    "    return [entity for entity in entities if entity[\"score\"] >= threshold]\n",
    "\n",
    "entities = filter_entities(entities, threshold=0.5)\n",
    "\n",
    "# Display the results\n",
    "print(\"=== Extracted Text ===\")\n",
    "print(text)\n",
    "print(\"\\n=== Identified Entities ===\")\n",
    "for entity in entities:\n",
    "    print(f\"Entity: {entity['word']}\")\n",
    "    print(f\"  Type: {entity['entity']}\")\n",
    "    print(f\"  Confidence: {entity['score']:.2f}\")\n",
    "    print(f\"  Start: {entity['start']}, End: {entity['end']}\")\n",
    "    print(\"-\" * 40)"
   ]
  }
 ],
 "metadata": {
  "kernelspec": {
   "display_name": "my-ml-env",
   "language": "python",
   "name": "python3"
  },
  "language_info": {
   "codemirror_mode": {
    "name": "ipython",
    "version": 3
   },
   "file_extension": ".py",
   "mimetype": "text/x-python",
   "name": "python",
   "nbconvert_exporter": "python",
   "pygments_lexer": "ipython3",
   "version": "3.11.4"
  }
 },
 "nbformat": 4,
 "nbformat_minor": 5
}
